{
  "nbformat": 4,
  "nbformat_minor": 0,
  "metadata": {
    "colab": {
      "name": "WeatherAUS.ipynb",
      "provenance": [],
      "collapsed_sections": [],
      "mount_file_id": "1ejJ5qanHDC53fvIoxIO6OOHYHPsKYFoW",
      "authorship_tag": "ABX9TyMCJMDBHsAV1k48sSCHh8SB",
      "include_colab_link": true
    },
    "kernelspec": {
      "name": "python3",
      "display_name": "Python 3"
    },
    "language_info": {
      "name": "python"
    }
  },
  "cells": [
    {
      "cell_type": "markdown",
      "metadata": {
        "id": "view-in-github",
        "colab_type": "text"
      },
      "source": [
        "<a href=\"https://colab.research.google.com/github/sajeeshen/WeatherAUS/blob/master/WeatherAUS.ipynb\" target=\"_parent\"><img src=\"https://colab.research.google.com/assets/colab-badge.svg\" alt=\"Open In Colab\"/></a>"
      ]
    },
    {
      "cell_type": "code",
      "metadata": {
        "id": "6Yuo-23zsR5H"
      },
      "source": [
        "import numpy as np\n",
        "import pandas as pd\n",
        "import seaborn as sns\n",
        "import matplotlib.pyplot as plt\n",
        "%matplotlib inline\n",
        "import warnings \n",
        "from sklearn.model_selection import train_test_split\n",
        "from sklearn.linear_model import LogisticRegression\n",
        "from sklearn.metrics import classification_report\n",
        "from sklearn.ensemble import RandomForestClassifier\n",
        "from sklearn.metrics import confusion_matrix, f1_score, accuracy_score\n",
        "warnings.filterwarnings(\"ignore\")\n",
        "\n"
      ],
      "execution_count": 279,
      "outputs": []
    },
    {
      "cell_type": "code",
      "metadata": {
        "id": "fBYV7_s1ucSl"
      },
      "source": [
        "df = pd.read_csv(\"/content/drive/MyDrive/Datasets/weatherAUS.csv\")"
      ],
      "execution_count": 280,
      "outputs": []
    },
    {
      "cell_type": "code",
      "metadata": {
        "colab": {
          "base_uri": "https://localhost:8080/",
          "height": 313
        },
        "id": "OyKQ3EiBukaj",
        "outputId": "1481ff64-573c-42f5-bae9-7913851131fc"
      },
      "source": [
        "df.head()"
      ],
      "execution_count": 281,
      "outputs": [
        {
          "output_type": "execute_result",
          "data": {
            "text/html": [
              "<div>\n",
              "<style scoped>\n",
              "    .dataframe tbody tr th:only-of-type {\n",
              "        vertical-align: middle;\n",
              "    }\n",
              "\n",
              "    .dataframe tbody tr th {\n",
              "        vertical-align: top;\n",
              "    }\n",
              "\n",
              "    .dataframe thead th {\n",
              "        text-align: right;\n",
              "    }\n",
              "</style>\n",
              "<table border=\"1\" class=\"dataframe\">\n",
              "  <thead>\n",
              "    <tr style=\"text-align: right;\">\n",
              "      <th></th>\n",
              "      <th>Date</th>\n",
              "      <th>Location</th>\n",
              "      <th>MinTemp</th>\n",
              "      <th>MaxTemp</th>\n",
              "      <th>Rainfall</th>\n",
              "      <th>Evaporation</th>\n",
              "      <th>Sunshine</th>\n",
              "      <th>WindGustDir</th>\n",
              "      <th>WindGustSpeed</th>\n",
              "      <th>WindDir9am</th>\n",
              "      <th>WindDir3pm</th>\n",
              "      <th>WindSpeed9am</th>\n",
              "      <th>WindSpeed3pm</th>\n",
              "      <th>Humidity9am</th>\n",
              "      <th>Humidity3pm</th>\n",
              "      <th>Pressure9am</th>\n",
              "      <th>Pressure3pm</th>\n",
              "      <th>Cloud9am</th>\n",
              "      <th>Cloud3pm</th>\n",
              "      <th>Temp9am</th>\n",
              "      <th>Temp3pm</th>\n",
              "      <th>RainToday</th>\n",
              "      <th>RISK_MM</th>\n",
              "      <th>RainTomorrow</th>\n",
              "    </tr>\n",
              "  </thead>\n",
              "  <tbody>\n",
              "    <tr>\n",
              "      <th>0</th>\n",
              "      <td>2008-12-01</td>\n",
              "      <td>Albury</td>\n",
              "      <td>13.4</td>\n",
              "      <td>22.9</td>\n",
              "      <td>0.6</td>\n",
              "      <td>NaN</td>\n",
              "      <td>NaN</td>\n",
              "      <td>W</td>\n",
              "      <td>44.0</td>\n",
              "      <td>W</td>\n",
              "      <td>WNW</td>\n",
              "      <td>20.0</td>\n",
              "      <td>24.0</td>\n",
              "      <td>71.0</td>\n",
              "      <td>22.0</td>\n",
              "      <td>1007.7</td>\n",
              "      <td>1007.1</td>\n",
              "      <td>8.0</td>\n",
              "      <td>NaN</td>\n",
              "      <td>16.9</td>\n",
              "      <td>21.8</td>\n",
              "      <td>No</td>\n",
              "      <td>0.0</td>\n",
              "      <td>No</td>\n",
              "    </tr>\n",
              "    <tr>\n",
              "      <th>1</th>\n",
              "      <td>2008-12-02</td>\n",
              "      <td>Albury</td>\n",
              "      <td>7.4</td>\n",
              "      <td>25.1</td>\n",
              "      <td>0.0</td>\n",
              "      <td>NaN</td>\n",
              "      <td>NaN</td>\n",
              "      <td>WNW</td>\n",
              "      <td>44.0</td>\n",
              "      <td>NNW</td>\n",
              "      <td>WSW</td>\n",
              "      <td>4.0</td>\n",
              "      <td>22.0</td>\n",
              "      <td>44.0</td>\n",
              "      <td>25.0</td>\n",
              "      <td>1010.6</td>\n",
              "      <td>1007.8</td>\n",
              "      <td>NaN</td>\n",
              "      <td>NaN</td>\n",
              "      <td>17.2</td>\n",
              "      <td>24.3</td>\n",
              "      <td>No</td>\n",
              "      <td>0.0</td>\n",
              "      <td>No</td>\n",
              "    </tr>\n",
              "    <tr>\n",
              "      <th>2</th>\n",
              "      <td>2008-12-03</td>\n",
              "      <td>Albury</td>\n",
              "      <td>12.9</td>\n",
              "      <td>25.7</td>\n",
              "      <td>0.0</td>\n",
              "      <td>NaN</td>\n",
              "      <td>NaN</td>\n",
              "      <td>WSW</td>\n",
              "      <td>46.0</td>\n",
              "      <td>W</td>\n",
              "      <td>WSW</td>\n",
              "      <td>19.0</td>\n",
              "      <td>26.0</td>\n",
              "      <td>38.0</td>\n",
              "      <td>30.0</td>\n",
              "      <td>1007.6</td>\n",
              "      <td>1008.7</td>\n",
              "      <td>NaN</td>\n",
              "      <td>2.0</td>\n",
              "      <td>21.0</td>\n",
              "      <td>23.2</td>\n",
              "      <td>No</td>\n",
              "      <td>0.0</td>\n",
              "      <td>No</td>\n",
              "    </tr>\n",
              "    <tr>\n",
              "      <th>3</th>\n",
              "      <td>2008-12-04</td>\n",
              "      <td>Albury</td>\n",
              "      <td>9.2</td>\n",
              "      <td>28.0</td>\n",
              "      <td>0.0</td>\n",
              "      <td>NaN</td>\n",
              "      <td>NaN</td>\n",
              "      <td>NE</td>\n",
              "      <td>24.0</td>\n",
              "      <td>SE</td>\n",
              "      <td>E</td>\n",
              "      <td>11.0</td>\n",
              "      <td>9.0</td>\n",
              "      <td>45.0</td>\n",
              "      <td>16.0</td>\n",
              "      <td>1017.6</td>\n",
              "      <td>1012.8</td>\n",
              "      <td>NaN</td>\n",
              "      <td>NaN</td>\n",
              "      <td>18.1</td>\n",
              "      <td>26.5</td>\n",
              "      <td>No</td>\n",
              "      <td>1.0</td>\n",
              "      <td>No</td>\n",
              "    </tr>\n",
              "    <tr>\n",
              "      <th>4</th>\n",
              "      <td>2008-12-05</td>\n",
              "      <td>Albury</td>\n",
              "      <td>17.5</td>\n",
              "      <td>32.3</td>\n",
              "      <td>1.0</td>\n",
              "      <td>NaN</td>\n",
              "      <td>NaN</td>\n",
              "      <td>W</td>\n",
              "      <td>41.0</td>\n",
              "      <td>ENE</td>\n",
              "      <td>NW</td>\n",
              "      <td>7.0</td>\n",
              "      <td>20.0</td>\n",
              "      <td>82.0</td>\n",
              "      <td>33.0</td>\n",
              "      <td>1010.8</td>\n",
              "      <td>1006.0</td>\n",
              "      <td>7.0</td>\n",
              "      <td>8.0</td>\n",
              "      <td>17.8</td>\n",
              "      <td>29.7</td>\n",
              "      <td>No</td>\n",
              "      <td>0.2</td>\n",
              "      <td>No</td>\n",
              "    </tr>\n",
              "  </tbody>\n",
              "</table>\n",
              "</div>"
            ],
            "text/plain": [
              "         Date Location  MinTemp  ...  RainToday  RISK_MM  RainTomorrow\n",
              "0  2008-12-01   Albury     13.4  ...         No      0.0            No\n",
              "1  2008-12-02   Albury      7.4  ...         No      0.0            No\n",
              "2  2008-12-03   Albury     12.9  ...         No      0.0            No\n",
              "3  2008-12-04   Albury      9.2  ...         No      1.0            No\n",
              "4  2008-12-05   Albury     17.5  ...         No      0.2            No\n",
              "\n",
              "[5 rows x 24 columns]"
            ]
          },
          "metadata": {},
          "execution_count": 281
        }
      ]
    },
    {
      "cell_type": "markdown",
      "metadata": {
        "id": "J1ALe3QKva-C"
      },
      "source": [
        "### Seems like we have lots of null values in different fields"
      ]
    },
    {
      "cell_type": "code",
      "metadata": {
        "colab": {
          "base_uri": "https://localhost:8080/"
        },
        "id": "sTWmOKd6vaUE",
        "outputId": "3b8fdda2-1bb6-40d1-efb5-9ce7981b9ec3"
      },
      "source": [
        "df.isnull().sum()"
      ],
      "execution_count": 282,
      "outputs": [
        {
          "output_type": "execute_result",
          "data": {
            "text/plain": [
              "Date                 0\n",
              "Location             0\n",
              "MinTemp            637\n",
              "MaxTemp            322\n",
              "Rainfall          1406\n",
              "Evaporation      60843\n",
              "Sunshine         67816\n",
              "WindGustDir       9330\n",
              "WindGustSpeed     9270\n",
              "WindDir9am       10013\n",
              "WindDir3pm        3778\n",
              "WindSpeed9am      1348\n",
              "WindSpeed3pm      2630\n",
              "Humidity9am       1774\n",
              "Humidity3pm       3610\n",
              "Pressure9am      14014\n",
              "Pressure3pm      13981\n",
              "Cloud9am         53657\n",
              "Cloud3pm         57094\n",
              "Temp9am            904\n",
              "Temp3pm           2726\n",
              "RainToday         1406\n",
              "RISK_MM              0\n",
              "RainTomorrow         0\n",
              "dtype: int64"
            ]
          },
          "metadata": {},
          "execution_count": 282
        }
      ]
    },
    {
      "cell_type": "code",
      "metadata": {
        "colab": {
          "base_uri": "https://localhost:8080/"
        },
        "id": "TqgaSCn1ulmG",
        "outputId": "06c81ad7-bb22-4398-d26d-4910800d6e37"
      },
      "source": [
        "# After dropping those fields checking the info\n",
        "df.info()"
      ],
      "execution_count": 283,
      "outputs": [
        {
          "output_type": "stream",
          "name": "stdout",
          "text": [
            "<class 'pandas.core.frame.DataFrame'>\n",
            "RangeIndex: 142193 entries, 0 to 142192\n",
            "Data columns (total 24 columns):\n",
            " #   Column         Non-Null Count   Dtype  \n",
            "---  ------         --------------   -----  \n",
            " 0   Date           142193 non-null  object \n",
            " 1   Location       142193 non-null  object \n",
            " 2   MinTemp        141556 non-null  float64\n",
            " 3   MaxTemp        141871 non-null  float64\n",
            " 4   Rainfall       140787 non-null  float64\n",
            " 5   Evaporation    81350 non-null   float64\n",
            " 6   Sunshine       74377 non-null   float64\n",
            " 7   WindGustDir    132863 non-null  object \n",
            " 8   WindGustSpeed  132923 non-null  float64\n",
            " 9   WindDir9am     132180 non-null  object \n",
            " 10  WindDir3pm     138415 non-null  object \n",
            " 11  WindSpeed9am   140845 non-null  float64\n",
            " 12  WindSpeed3pm   139563 non-null  float64\n",
            " 13  Humidity9am    140419 non-null  float64\n",
            " 14  Humidity3pm    138583 non-null  float64\n",
            " 15  Pressure9am    128179 non-null  float64\n",
            " 16  Pressure3pm    128212 non-null  float64\n",
            " 17  Cloud9am       88536 non-null   float64\n",
            " 18  Cloud3pm       85099 non-null   float64\n",
            " 19  Temp9am        141289 non-null  float64\n",
            " 20  Temp3pm        139467 non-null  float64\n",
            " 21  RainToday      140787 non-null  object \n",
            " 22  RISK_MM        142193 non-null  float64\n",
            " 23  RainTomorrow   142193 non-null  object \n",
            "dtypes: float64(17), object(7)\n",
            "memory usage: 26.0+ MB\n"
          ]
        }
      ]
    },
    {
      "cell_type": "markdown",
      "metadata": {
        "id": "wpIMOzlh37pC"
      },
      "source": [
        "### Target variable is RainTomorrow "
      ]
    },
    {
      "cell_type": "code",
      "metadata": {
        "id": "edbT3IJoGkdN"
      },
      "source": [
        "df['RainTomorrow'] = df['RainTomorrow'].replace(['Yes', 'No'], [1,0])"
      ],
      "execution_count": 284,
      "outputs": []
    },
    {
      "cell_type": "code",
      "metadata": {
        "colab": {
          "base_uri": "https://localhost:8080/"
        },
        "id": "I21sMbNBusYw",
        "outputId": "324f1365-e498-46cb-84f7-bec00d7f760c"
      },
      "source": [
        "df.shape"
      ],
      "execution_count": 285,
      "outputs": [
        {
          "output_type": "execute_result",
          "data": {
            "text/plain": [
              "(142193, 24)"
            ]
          },
          "metadata": {},
          "execution_count": 285
        }
      ]
    },
    {
      "cell_type": "code",
      "metadata": {
        "colab": {
          "base_uri": "https://localhost:8080/",
          "height": 320
        },
        "id": "5svEnH7Xuyjq",
        "outputId": "6e8fe9a5-4214-42e3-c4bb-1875c7d78bb3"
      },
      "source": [
        "df.describe()"
      ],
      "execution_count": 286,
      "outputs": [
        {
          "output_type": "execute_result",
          "data": {
            "text/html": [
              "<div>\n",
              "<style scoped>\n",
              "    .dataframe tbody tr th:only-of-type {\n",
              "        vertical-align: middle;\n",
              "    }\n",
              "\n",
              "    .dataframe tbody tr th {\n",
              "        vertical-align: top;\n",
              "    }\n",
              "\n",
              "    .dataframe thead th {\n",
              "        text-align: right;\n",
              "    }\n",
              "</style>\n",
              "<table border=\"1\" class=\"dataframe\">\n",
              "  <thead>\n",
              "    <tr style=\"text-align: right;\">\n",
              "      <th></th>\n",
              "      <th>MinTemp</th>\n",
              "      <th>MaxTemp</th>\n",
              "      <th>Rainfall</th>\n",
              "      <th>Evaporation</th>\n",
              "      <th>Sunshine</th>\n",
              "      <th>WindGustSpeed</th>\n",
              "      <th>WindSpeed9am</th>\n",
              "      <th>WindSpeed3pm</th>\n",
              "      <th>Humidity9am</th>\n",
              "      <th>Humidity3pm</th>\n",
              "      <th>Pressure9am</th>\n",
              "      <th>Pressure3pm</th>\n",
              "      <th>Cloud9am</th>\n",
              "      <th>Cloud3pm</th>\n",
              "      <th>Temp9am</th>\n",
              "      <th>Temp3pm</th>\n",
              "      <th>RISK_MM</th>\n",
              "      <th>RainTomorrow</th>\n",
              "    </tr>\n",
              "  </thead>\n",
              "  <tbody>\n",
              "    <tr>\n",
              "      <th>count</th>\n",
              "      <td>141556.000000</td>\n",
              "      <td>141871.000000</td>\n",
              "      <td>140787.000000</td>\n",
              "      <td>81350.000000</td>\n",
              "      <td>74377.000000</td>\n",
              "      <td>132923.000000</td>\n",
              "      <td>140845.000000</td>\n",
              "      <td>139563.000000</td>\n",
              "      <td>140419.000000</td>\n",
              "      <td>138583.000000</td>\n",
              "      <td>128179.000000</td>\n",
              "      <td>128212.000000</td>\n",
              "      <td>88536.000000</td>\n",
              "      <td>85099.000000</td>\n",
              "      <td>141289.000000</td>\n",
              "      <td>139467.000000</td>\n",
              "      <td>142193.000000</td>\n",
              "      <td>142193.000000</td>\n",
              "    </tr>\n",
              "    <tr>\n",
              "      <th>mean</th>\n",
              "      <td>12.186400</td>\n",
              "      <td>23.226784</td>\n",
              "      <td>2.349974</td>\n",
              "      <td>5.469824</td>\n",
              "      <td>7.624853</td>\n",
              "      <td>39.984292</td>\n",
              "      <td>14.001988</td>\n",
              "      <td>18.637576</td>\n",
              "      <td>68.843810</td>\n",
              "      <td>51.482606</td>\n",
              "      <td>1017.653758</td>\n",
              "      <td>1015.258204</td>\n",
              "      <td>4.437189</td>\n",
              "      <td>4.503167</td>\n",
              "      <td>16.987509</td>\n",
              "      <td>21.687235</td>\n",
              "      <td>2.360682</td>\n",
              "      <td>0.224181</td>\n",
              "    </tr>\n",
              "    <tr>\n",
              "      <th>std</th>\n",
              "      <td>6.403283</td>\n",
              "      <td>7.117618</td>\n",
              "      <td>8.465173</td>\n",
              "      <td>4.188537</td>\n",
              "      <td>3.781525</td>\n",
              "      <td>13.588801</td>\n",
              "      <td>8.893337</td>\n",
              "      <td>8.803345</td>\n",
              "      <td>19.051293</td>\n",
              "      <td>20.797772</td>\n",
              "      <td>7.105476</td>\n",
              "      <td>7.036677</td>\n",
              "      <td>2.887016</td>\n",
              "      <td>2.720633</td>\n",
              "      <td>6.492838</td>\n",
              "      <td>6.937594</td>\n",
              "      <td>8.477969</td>\n",
              "      <td>0.417043</td>\n",
              "    </tr>\n",
              "    <tr>\n",
              "      <th>min</th>\n",
              "      <td>-8.500000</td>\n",
              "      <td>-4.800000</td>\n",
              "      <td>0.000000</td>\n",
              "      <td>0.000000</td>\n",
              "      <td>0.000000</td>\n",
              "      <td>6.000000</td>\n",
              "      <td>0.000000</td>\n",
              "      <td>0.000000</td>\n",
              "      <td>0.000000</td>\n",
              "      <td>0.000000</td>\n",
              "      <td>980.500000</td>\n",
              "      <td>977.100000</td>\n",
              "      <td>0.000000</td>\n",
              "      <td>0.000000</td>\n",
              "      <td>-7.200000</td>\n",
              "      <td>-5.400000</td>\n",
              "      <td>0.000000</td>\n",
              "      <td>0.000000</td>\n",
              "    </tr>\n",
              "    <tr>\n",
              "      <th>25%</th>\n",
              "      <td>7.600000</td>\n",
              "      <td>17.900000</td>\n",
              "      <td>0.000000</td>\n",
              "      <td>2.600000</td>\n",
              "      <td>4.900000</td>\n",
              "      <td>31.000000</td>\n",
              "      <td>7.000000</td>\n",
              "      <td>13.000000</td>\n",
              "      <td>57.000000</td>\n",
              "      <td>37.000000</td>\n",
              "      <td>1012.900000</td>\n",
              "      <td>1010.400000</td>\n",
              "      <td>1.000000</td>\n",
              "      <td>2.000000</td>\n",
              "      <td>12.300000</td>\n",
              "      <td>16.600000</td>\n",
              "      <td>0.000000</td>\n",
              "      <td>0.000000</td>\n",
              "    </tr>\n",
              "    <tr>\n",
              "      <th>50%</th>\n",
              "      <td>12.000000</td>\n",
              "      <td>22.600000</td>\n",
              "      <td>0.000000</td>\n",
              "      <td>4.800000</td>\n",
              "      <td>8.500000</td>\n",
              "      <td>39.000000</td>\n",
              "      <td>13.000000</td>\n",
              "      <td>19.000000</td>\n",
              "      <td>70.000000</td>\n",
              "      <td>52.000000</td>\n",
              "      <td>1017.600000</td>\n",
              "      <td>1015.200000</td>\n",
              "      <td>5.000000</td>\n",
              "      <td>5.000000</td>\n",
              "      <td>16.700000</td>\n",
              "      <td>21.100000</td>\n",
              "      <td>0.000000</td>\n",
              "      <td>0.000000</td>\n",
              "    </tr>\n",
              "    <tr>\n",
              "      <th>75%</th>\n",
              "      <td>16.800000</td>\n",
              "      <td>28.200000</td>\n",
              "      <td>0.800000</td>\n",
              "      <td>7.400000</td>\n",
              "      <td>10.600000</td>\n",
              "      <td>48.000000</td>\n",
              "      <td>19.000000</td>\n",
              "      <td>24.000000</td>\n",
              "      <td>83.000000</td>\n",
              "      <td>66.000000</td>\n",
              "      <td>1022.400000</td>\n",
              "      <td>1020.000000</td>\n",
              "      <td>7.000000</td>\n",
              "      <td>7.000000</td>\n",
              "      <td>21.600000</td>\n",
              "      <td>26.400000</td>\n",
              "      <td>0.800000</td>\n",
              "      <td>0.000000</td>\n",
              "    </tr>\n",
              "    <tr>\n",
              "      <th>max</th>\n",
              "      <td>33.900000</td>\n",
              "      <td>48.100000</td>\n",
              "      <td>371.000000</td>\n",
              "      <td>145.000000</td>\n",
              "      <td>14.500000</td>\n",
              "      <td>135.000000</td>\n",
              "      <td>130.000000</td>\n",
              "      <td>87.000000</td>\n",
              "      <td>100.000000</td>\n",
              "      <td>100.000000</td>\n",
              "      <td>1041.000000</td>\n",
              "      <td>1039.600000</td>\n",
              "      <td>9.000000</td>\n",
              "      <td>9.000000</td>\n",
              "      <td>40.200000</td>\n",
              "      <td>46.700000</td>\n",
              "      <td>371.000000</td>\n",
              "      <td>1.000000</td>\n",
              "    </tr>\n",
              "  </tbody>\n",
              "</table>\n",
              "</div>"
            ],
            "text/plain": [
              "             MinTemp        MaxTemp  ...        RISK_MM   RainTomorrow\n",
              "count  141556.000000  141871.000000  ...  142193.000000  142193.000000\n",
              "mean       12.186400      23.226784  ...       2.360682       0.224181\n",
              "std         6.403283       7.117618  ...       8.477969       0.417043\n",
              "min        -8.500000      -4.800000  ...       0.000000       0.000000\n",
              "25%         7.600000      17.900000  ...       0.000000       0.000000\n",
              "50%        12.000000      22.600000  ...       0.000000       0.000000\n",
              "75%        16.800000      28.200000  ...       0.800000       0.000000\n",
              "max        33.900000      48.100000  ...     371.000000       1.000000\n",
              "\n",
              "[8 rows x 18 columns]"
            ]
          },
          "metadata": {},
          "execution_count": 286
        }
      ]
    },
    {
      "cell_type": "code",
      "metadata": {
        "id": "OtjAhtEXfYeI"
      },
      "source": [
        "df.reset_index(drop=True,inplace=True)"
      ],
      "execution_count": 287,
      "outputs": []
    },
    {
      "cell_type": "code",
      "metadata": {
        "colab": {
          "base_uri": "https://localhost:8080/"
        },
        "id": "M9gj0a-nfawF",
        "outputId": "a25796ce-2c5f-4012-ba33-d5d6fc868434"
      },
      "source": [
        "df.info()"
      ],
      "execution_count": 288,
      "outputs": [
        {
          "output_type": "stream",
          "name": "stdout",
          "text": [
            "<class 'pandas.core.frame.DataFrame'>\n",
            "RangeIndex: 142193 entries, 0 to 142192\n",
            "Data columns (total 24 columns):\n",
            " #   Column         Non-Null Count   Dtype  \n",
            "---  ------         --------------   -----  \n",
            " 0   Date           142193 non-null  object \n",
            " 1   Location       142193 non-null  object \n",
            " 2   MinTemp        141556 non-null  float64\n",
            " 3   MaxTemp        141871 non-null  float64\n",
            " 4   Rainfall       140787 non-null  float64\n",
            " 5   Evaporation    81350 non-null   float64\n",
            " 6   Sunshine       74377 non-null   float64\n",
            " 7   WindGustDir    132863 non-null  object \n",
            " 8   WindGustSpeed  132923 non-null  float64\n",
            " 9   WindDir9am     132180 non-null  object \n",
            " 10  WindDir3pm     138415 non-null  object \n",
            " 11  WindSpeed9am   140845 non-null  float64\n",
            " 12  WindSpeed3pm   139563 non-null  float64\n",
            " 13  Humidity9am    140419 non-null  float64\n",
            " 14  Humidity3pm    138583 non-null  float64\n",
            " 15  Pressure9am    128179 non-null  float64\n",
            " 16  Pressure3pm    128212 non-null  float64\n",
            " 17  Cloud9am       88536 non-null   float64\n",
            " 18  Cloud3pm       85099 non-null   float64\n",
            " 19  Temp9am        141289 non-null  float64\n",
            " 20  Temp3pm        139467 non-null  float64\n",
            " 21  RainToday      140787 non-null  object \n",
            " 22  RISK_MM        142193 non-null  float64\n",
            " 23  RainTomorrow   142193 non-null  int64  \n",
            "dtypes: float64(17), int64(1), object(6)\n",
            "memory usage: 26.0+ MB\n"
          ]
        }
      ]
    },
    {
      "cell_type": "code",
      "metadata": {
        "colab": {
          "base_uri": "https://localhost:8080/"
        },
        "id": "soA0zXqtfgdy",
        "outputId": "a146de13-493e-4a3b-af70-b282fda72602"
      },
      "source": [
        "df.isnull().sum()"
      ],
      "execution_count": 289,
      "outputs": [
        {
          "output_type": "execute_result",
          "data": {
            "text/plain": [
              "Date                 0\n",
              "Location             0\n",
              "MinTemp            637\n",
              "MaxTemp            322\n",
              "Rainfall          1406\n",
              "Evaporation      60843\n",
              "Sunshine         67816\n",
              "WindGustDir       9330\n",
              "WindGustSpeed     9270\n",
              "WindDir9am       10013\n",
              "WindDir3pm        3778\n",
              "WindSpeed9am      1348\n",
              "WindSpeed3pm      2630\n",
              "Humidity9am       1774\n",
              "Humidity3pm       3610\n",
              "Pressure9am      14014\n",
              "Pressure3pm      13981\n",
              "Cloud9am         53657\n",
              "Cloud3pm         57094\n",
              "Temp9am            904\n",
              "Temp3pm           2726\n",
              "RainToday         1406\n",
              "RISK_MM              0\n",
              "RainTomorrow         0\n",
              "dtype: int64"
            ]
          },
          "metadata": {},
          "execution_count": 289
        }
      ]
    },
    {
      "cell_type": "code",
      "metadata": {
        "colab": {
          "base_uri": "https://localhost:8080/",
          "height": 295
        },
        "id": "JmMDOs-zOubY",
        "outputId": "02aeec48-4a6a-4674-f856-a4d96a49ec55"
      },
      "source": [
        "fix, ax = plt.subplots()\n",
        "ax.scatter(df['MinTemp'], df['MaxTemp'])\n",
        "ax.set_title('Weather DataSet of Australia')\n",
        "ax.set_xlabel('Min Temperature')\n",
        "ax.set_ylabel('Max Temperatue')\n",
        "plt.show()"
      ],
      "execution_count": 290,
      "outputs": [
        {
          "output_type": "display_data",
          "data": {
            "image/png": "[encoded data removed]",
            "text/plain": [
              "<Figure size 432x288 with 1 Axes>"
            ]
          },
          "metadata": {
            "needs_background": "light"
          }
        }
      ]
    },
    {
      "cell_type": "code",
      "metadata": {
        "colab": {
          "base_uri": "https://localhost:8080/",
          "height": 1000
        },
        "id": "2qntyHdjPLQX",
        "outputId": "8aa8cfc2-6496-45ab-a42b-4f38d2e82df3"
      },
      "source": [
        "df.hist('Cloud3pm')\n",
        "df.hist('Cloud9am')\n",
        "df.hist('Humidity9am')\n",
        "df.hist('Humidity3pm')\n",
        "df.hist('WindSpeed9am')\n",
        "df.hist('WindSpeed3pm')\n",
        "df.hist('WindGustSpeed')\n",
        "df.hist('Sunshine')\n",
        "df.hist('Evaporation')\n",
        "df.hist('Rainfall')\n",
        "plt.show()"
      ],
      "execution_count": 291,
      "outputs": [
        {
          "output_type": "display_data",
          "data": {
            "image/png": "[encoded data removed]",
            "text/plain": [
              "<Figure size 432x288 with 1 Axes>"
            ]
          },
          "metadata": {
            "needs_background": "light"
          }
        },
        {
          "output_type": "display_data",
          "data": {
            "image/png": "[encoded data removed]",
            "text/plain": [
              "<Figure size 432x288 with 1 Axes>"
            ]
          },
          "metadata": {
            "needs_background": "light"
          }
        },
        {
          "output_type": "display_data",
          "data": {
            "image/png": "[encoded data removed]",
            "text/plain": [
              "<Figure size 432x288 with 1 Axes>"
            ]
          },
          "metadata": {
            "needs_background": "light"
          }
        },
        {
          "output_type": "display_data",
          "data": {
            "image/png": "[encoded data removed]",
            "text/plain": [
              "<Figure size 432x288 with 1 Axes>"
            ]
          },
          "metadata": {
            "needs_background": "light"
          }
        },
        {
          "output_type": "display_data",
          "data": {
            "image/png": "[encoded data removed]",
            "text/plain": [
              "<Figure size 432x288 with 1 Axes>"
            ]
          },
          "metadata": {
            "needs_background": "light"
          }
        },
        {
          "output_type": "display_data",
          "data": {
            "image/png": "[encoded data removed]",
            "text/plain": [
              "<Figure size 432x288 with 1 Axes>"
            ]
          },
          "metadata": {
            "needs_background": "light"
          }
        },
        {
          "output_type": "display_data",
          "data": {
            "image/png": "[encoded data removed]",
            "text/plain": [
              "<Figure size 432x288 with 1 Axes>"
            ]
          },
          "metadata": {
            "needs_background": "light"
          }
        },
        {
          "output_type": "display_data",
          "data": {
            "image/png": "[encoded data removed]",
            "text/plain": [
              "<Figure size 432x288 with 1 Axes>"
            ]
          },
          "metadata": {
            "needs_background": "light"
          }
        },
        {
          "output_type": "display_data",
          "data": {
            "image/png": "[encoded data removed]",
            "text/plain": [
              "<Figure size 432x288 with 1 Axes>"
            ]
          },
          "metadata": {
            "needs_background": "light"
          }
        },
        {
          "output_type": "display_data",
          "data": {
            "image/png": "[encoded data removed]",
            "text/plain": [
              "<Figure size 432x288 with 1 Axes>"
            ]
          },
          "metadata": {
            "needs_background": "light"
          }
        }
      ]
    },
    {
      "cell_type": "code",
      "metadata": {
        "colab": {
          "base_uri": "https://localhost:8080/",
          "height": 634
        },
        "id": "P_zn86wygPE4",
        "outputId": "9ad52549-b3a5-4fa2-d0b0-5ae34c403662"
      },
      "source": [
        "df.corr()"
      ],
      "execution_count": 292,
      "outputs": [
        {
          "output_type": "execute_result",
          "data": {
            "text/html": [
              "<div>\n",
              "<style scoped>\n",
              "    .dataframe tbody tr th:only-of-type {\n",
              "        vertical-align: middle;\n",
              "    }\n",
              "\n",
              "    .dataframe tbody tr th {\n",
              "        vertical-align: top;\n",
              "    }\n",
              "\n",
              "    .dataframe thead th {\n",
              "        text-align: right;\n",
              "    }\n",
              "</style>\n",
              "<table border=\"1\" class=\"dataframe\">\n",
              "  <thead>\n",
              "    <tr style=\"text-align: right;\">\n",
              "      <th></th>\n",
              "      <th>MinTemp</th>\n",
              "      <th>MaxTemp</th>\n",
              "      <th>Rainfall</th>\n",
              "      <th>Evaporation</th>\n",
              "      <th>Sunshine</th>\n",
              "      <th>WindGustSpeed</th>\n",
              "      <th>WindSpeed9am</th>\n",
              "      <th>WindSpeed3pm</th>\n",
              "      <th>Humidity9am</th>\n",
              "      <th>Humidity3pm</th>\n",
              "      <th>Pressure9am</th>\n",
              "      <th>Pressure3pm</th>\n",
              "      <th>Cloud9am</th>\n",
              "      <th>Cloud3pm</th>\n",
              "      <th>Temp9am</th>\n",
              "      <th>Temp3pm</th>\n",
              "      <th>RISK_MM</th>\n",
              "      <th>RainTomorrow</th>\n",
              "    </tr>\n",
              "  </thead>\n",
              "  <tbody>\n",
              "    <tr>\n",
              "      <th>MinTemp</th>\n",
              "      <td>1.000000</td>\n",
              "      <td>0.736267</td>\n",
              "      <td>0.104255</td>\n",
              "      <td>0.467261</td>\n",
              "      <td>0.072961</td>\n",
              "      <td>0.177285</td>\n",
              "      <td>0.176005</td>\n",
              "      <td>0.175749</td>\n",
              "      <td>-0.234211</td>\n",
              "      <td>0.005999</td>\n",
              "      <td>-0.451260</td>\n",
              "      <td>-0.461623</td>\n",
              "      <td>0.077625</td>\n",
              "      <td>0.020489</td>\n",
              "      <td>0.901813</td>\n",
              "      <td>0.708865</td>\n",
              "      <td>0.124743</td>\n",
              "      <td>0.083936</td>\n",
              "    </tr>\n",
              "    <tr>\n",
              "      <th>MaxTemp</th>\n",
              "      <td>0.736267</td>\n",
              "      <td>1.000000</td>\n",
              "      <td>-0.074839</td>\n",
              "      <td>0.588915</td>\n",
              "      <td>0.469967</td>\n",
              "      <td>0.067690</td>\n",
              "      <td>0.014680</td>\n",
              "      <td>0.050800</td>\n",
              "      <td>-0.505432</td>\n",
              "      <td>-0.509270</td>\n",
              "      <td>-0.332293</td>\n",
              "      <td>-0.427279</td>\n",
              "      <td>-0.289865</td>\n",
              "      <td>-0.279053</td>\n",
              "      <td>0.887020</td>\n",
              "      <td>0.984562</td>\n",
              "      <td>-0.044208</td>\n",
              "      <td>-0.159237</td>\n",
              "    </tr>\n",
              "    <tr>\n",
              "      <th>Rainfall</th>\n",
              "      <td>0.104255</td>\n",
              "      <td>-0.074839</td>\n",
              "      <td>1.000000</td>\n",
              "      <td>-0.064549</td>\n",
              "      <td>-0.227525</td>\n",
              "      <td>0.133497</td>\n",
              "      <td>0.086816</td>\n",
              "      <td>0.057759</td>\n",
              "      <td>0.223725</td>\n",
              "      <td>0.255312</td>\n",
              "      <td>-0.168085</td>\n",
              "      <td>-0.126728</td>\n",
              "      <td>0.198195</td>\n",
              "      <td>0.171993</td>\n",
              "      <td>0.011477</td>\n",
              "      <td>-0.079178</td>\n",
              "      <td>0.308557</td>\n",
              "      <td>0.239032</td>\n",
              "    </tr>\n",
              "    <tr>\n",
              "      <th>Evaporation</th>\n",
              "      <td>0.467261</td>\n",
              "      <td>0.588915</td>\n",
              "      <td>-0.064549</td>\n",
              "      <td>1.000000</td>\n",
              "      <td>0.366607</td>\n",
              "      <td>0.203001</td>\n",
              "      <td>0.193936</td>\n",
              "      <td>0.128895</td>\n",
              "      <td>-0.505890</td>\n",
              "      <td>-0.392785</td>\n",
              "      <td>-0.269907</td>\n",
              "      <td>-0.293160</td>\n",
              "      <td>-0.185032</td>\n",
              "      <td>-0.184287</td>\n",
              "      <td>0.545497</td>\n",
              "      <td>0.574275</td>\n",
              "      <td>-0.043498</td>\n",
              "      <td>-0.119285</td>\n",
              "    </tr>\n",
              "    <tr>\n",
              "      <th>Sunshine</th>\n",
              "      <td>0.072961</td>\n",
              "      <td>0.469967</td>\n",
              "      <td>-0.227525</td>\n",
              "      <td>0.366607</td>\n",
              "      <td>1.000000</td>\n",
              "      <td>-0.032831</td>\n",
              "      <td>0.008040</td>\n",
              "      <td>0.056012</td>\n",
              "      <td>-0.491603</td>\n",
              "      <td>-0.629122</td>\n",
              "      <td>0.040959</td>\n",
              "      <td>-0.020464</td>\n",
              "      <td>-0.675610</td>\n",
              "      <td>-0.704202</td>\n",
              "      <td>0.291139</td>\n",
              "      <td>0.490180</td>\n",
              "      <td>-0.294973</td>\n",
              "      <td>-0.450768</td>\n",
              "    </tr>\n",
              "    <tr>\n",
              "      <th>WindGustSpeed</th>\n",
              "      <td>0.177285</td>\n",
              "      <td>0.067690</td>\n",
              "      <td>0.133497</td>\n",
              "      <td>0.203001</td>\n",
              "      <td>-0.032831</td>\n",
              "      <td>1.000000</td>\n",
              "      <td>0.604837</td>\n",
              "      <td>0.686419</td>\n",
              "      <td>-0.215461</td>\n",
              "      <td>-0.026663</td>\n",
              "      <td>-0.457891</td>\n",
              "      <td>-0.412922</td>\n",
              "      <td>0.071235</td>\n",
              "      <td>0.109088</td>\n",
              "      <td>0.150258</td>\n",
              "      <td>0.032970</td>\n",
              "      <td>0.162923</td>\n",
              "      <td>0.234010</td>\n",
              "    </tr>\n",
              "    <tr>\n",
              "      <th>WindSpeed9am</th>\n",
              "      <td>0.176005</td>\n",
              "      <td>0.014680</td>\n",
              "      <td>0.086816</td>\n",
              "      <td>0.193936</td>\n",
              "      <td>0.008040</td>\n",
              "      <td>0.604837</td>\n",
              "      <td>1.000000</td>\n",
              "      <td>0.519971</td>\n",
              "      <td>-0.270807</td>\n",
              "      <td>-0.031607</td>\n",
              "      <td>-0.227923</td>\n",
              "      <td>-0.174916</td>\n",
              "      <td>0.024280</td>\n",
              "      <td>0.053584</td>\n",
              "      <td>0.129298</td>\n",
              "      <td>0.005108</td>\n",
              "      <td>0.069404</td>\n",
              "      <td>0.090995</td>\n",
              "    </tr>\n",
              "    <tr>\n",
              "      <th>WindSpeed3pm</th>\n",
              "      <td>0.175749</td>\n",
              "      <td>0.050800</td>\n",
              "      <td>0.057759</td>\n",
              "      <td>0.128895</td>\n",
              "      <td>0.056012</td>\n",
              "      <td>0.686419</td>\n",
              "      <td>0.519971</td>\n",
              "      <td>1.000000</td>\n",
              "      <td>-0.145942</td>\n",
              "      <td>0.015903</td>\n",
              "      <td>-0.295567</td>\n",
              "      <td>-0.254988</td>\n",
              "      <td>0.052780</td>\n",
              "      <td>0.025269</td>\n",
              "      <td>0.163601</td>\n",
              "      <td>0.028567</td>\n",
              "      <td>0.049240</td>\n",
              "      <td>0.087817</td>\n",
              "    </tr>\n",
              "    <tr>\n",
              "      <th>Humidity9am</th>\n",
              "      <td>-0.234211</td>\n",
              "      <td>-0.505432</td>\n",
              "      <td>0.223725</td>\n",
              "      <td>-0.505890</td>\n",
              "      <td>-0.491603</td>\n",
              "      <td>-0.215461</td>\n",
              "      <td>-0.270807</td>\n",
              "      <td>-0.145942</td>\n",
              "      <td>1.000000</td>\n",
              "      <td>0.667388</td>\n",
              "      <td>0.139519</td>\n",
              "      <td>0.186955</td>\n",
              "      <td>0.452182</td>\n",
              "      <td>0.358043</td>\n",
              "      <td>-0.472826</td>\n",
              "      <td>-0.499777</td>\n",
              "      <td>0.172417</td>\n",
              "      <td>0.257161</td>\n",
              "    </tr>\n",
              "    <tr>\n",
              "      <th>Humidity3pm</th>\n",
              "      <td>0.005999</td>\n",
              "      <td>-0.509270</td>\n",
              "      <td>0.255312</td>\n",
              "      <td>-0.392785</td>\n",
              "      <td>-0.629122</td>\n",
              "      <td>-0.026663</td>\n",
              "      <td>-0.031607</td>\n",
              "      <td>0.015903</td>\n",
              "      <td>0.667388</td>\n",
              "      <td>1.000000</td>\n",
              "      <td>-0.027449</td>\n",
              "      <td>0.051840</td>\n",
              "      <td>0.517037</td>\n",
              "      <td>0.523270</td>\n",
              "      <td>-0.221467</td>\n",
              "      <td>-0.557989</td>\n",
              "      <td>0.313183</td>\n",
              "      <td>0.446160</td>\n",
              "    </tr>\n",
              "    <tr>\n",
              "      <th>Pressure9am</th>\n",
              "      <td>-0.451260</td>\n",
              "      <td>-0.332293</td>\n",
              "      <td>-0.168085</td>\n",
              "      <td>-0.269907</td>\n",
              "      <td>0.040959</td>\n",
              "      <td>-0.457891</td>\n",
              "      <td>-0.227923</td>\n",
              "      <td>-0.295567</td>\n",
              "      <td>0.139519</td>\n",
              "      <td>-0.027449</td>\n",
              "      <td>1.000000</td>\n",
              "      <td>0.961348</td>\n",
              "      <td>-0.130081</td>\n",
              "      <td>-0.148139</td>\n",
              "      <td>-0.422773</td>\n",
              "      <td>-0.287301</td>\n",
              "      <td>-0.163673</td>\n",
              "      <td>-0.246371</td>\n",
              "    </tr>\n",
              "    <tr>\n",
              "      <th>Pressure3pm</th>\n",
              "      <td>-0.461623</td>\n",
              "      <td>-0.427279</td>\n",
              "      <td>-0.126728</td>\n",
              "      <td>-0.293160</td>\n",
              "      <td>-0.020464</td>\n",
              "      <td>-0.412922</td>\n",
              "      <td>-0.174916</td>\n",
              "      <td>-0.254988</td>\n",
              "      <td>0.186955</td>\n",
              "      <td>0.051840</td>\n",
              "      <td>0.961348</td>\n",
              "      <td>1.000000</td>\n",
              "      <td>-0.061152</td>\n",
              "      <td>-0.084963</td>\n",
              "      <td>-0.470325</td>\n",
              "      <td>-0.389863</td>\n",
              "      <td>-0.164184</td>\n",
              "      <td>-0.226031</td>\n",
              "    </tr>\n",
              "    <tr>\n",
              "      <th>Cloud9am</th>\n",
              "      <td>0.077625</td>\n",
              "      <td>-0.289865</td>\n",
              "      <td>0.198195</td>\n",
              "      <td>-0.185032</td>\n",
              "      <td>-0.675610</td>\n",
              "      <td>0.071235</td>\n",
              "      <td>0.024280</td>\n",
              "      <td>0.052780</td>\n",
              "      <td>0.452182</td>\n",
              "      <td>0.517037</td>\n",
              "      <td>-0.130081</td>\n",
              "      <td>-0.061152</td>\n",
              "      <td>1.000000</td>\n",
              "      <td>0.604118</td>\n",
              "      <td>-0.137843</td>\n",
              "      <td>-0.302520</td>\n",
              "      <td>0.198095</td>\n",
              "      <td>0.317380</td>\n",
              "    </tr>\n",
              "    <tr>\n",
              "      <th>Cloud3pm</th>\n",
              "      <td>0.020489</td>\n",
              "      <td>-0.279053</td>\n",
              "      <td>0.171993</td>\n",
              "      <td>-0.184287</td>\n",
              "      <td>-0.704202</td>\n",
              "      <td>0.109088</td>\n",
              "      <td>0.053584</td>\n",
              "      <td>0.025269</td>\n",
              "      <td>0.358043</td>\n",
              "      <td>0.523270</td>\n",
              "      <td>-0.148139</td>\n",
              "      <td>-0.084963</td>\n",
              "      <td>0.604118</td>\n",
              "      <td>1.000000</td>\n",
              "      <td>-0.127869</td>\n",
              "      <td>-0.318254</td>\n",
              "      <td>0.234814</td>\n",
              "      <td>0.381870</td>\n",
              "    </tr>\n",
              "    <tr>\n",
              "      <th>Temp9am</th>\n",
              "      <td>0.901813</td>\n",
              "      <td>0.887020</td>\n",
              "      <td>0.011477</td>\n",
              "      <td>0.545497</td>\n",
              "      <td>0.291139</td>\n",
              "      <td>0.150258</td>\n",
              "      <td>0.129298</td>\n",
              "      <td>0.163601</td>\n",
              "      <td>-0.472826</td>\n",
              "      <td>-0.221467</td>\n",
              "      <td>-0.422773</td>\n",
              "      <td>-0.470325</td>\n",
              "      <td>-0.137843</td>\n",
              "      <td>-0.127869</td>\n",
              "      <td>1.000000</td>\n",
              "      <td>0.860574</td>\n",
              "      <td>0.051232</td>\n",
              "      <td>-0.025691</td>\n",
              "    </tr>\n",
              "    <tr>\n",
              "      <th>Temp3pm</th>\n",
              "      <td>0.708865</td>\n",
              "      <td>0.984562</td>\n",
              "      <td>-0.079178</td>\n",
              "      <td>0.574275</td>\n",
              "      <td>0.490180</td>\n",
              "      <td>0.032970</td>\n",
              "      <td>0.005108</td>\n",
              "      <td>0.028567</td>\n",
              "      <td>-0.499777</td>\n",
              "      <td>-0.557989</td>\n",
              "      <td>-0.287301</td>\n",
              "      <td>-0.389863</td>\n",
              "      <td>-0.302520</td>\n",
              "      <td>-0.318254</td>\n",
              "      <td>0.860574</td>\n",
              "      <td>1.000000</td>\n",
              "      <td>-0.066817</td>\n",
              "      <td>-0.192424</td>\n",
              "    </tr>\n",
              "    <tr>\n",
              "      <th>RISK_MM</th>\n",
              "      <td>0.124743</td>\n",
              "      <td>-0.044208</td>\n",
              "      <td>0.308557</td>\n",
              "      <td>-0.043498</td>\n",
              "      <td>-0.294973</td>\n",
              "      <td>0.162923</td>\n",
              "      <td>0.069404</td>\n",
              "      <td>0.049240</td>\n",
              "      <td>0.172417</td>\n",
              "      <td>0.313183</td>\n",
              "      <td>-0.163673</td>\n",
              "      <td>-0.164184</td>\n",
              "      <td>0.198095</td>\n",
              "      <td>0.234814</td>\n",
              "      <td>0.051232</td>\n",
              "      <td>-0.066817</td>\n",
              "      <td>1.000000</td>\n",
              "      <td>0.501485</td>\n",
              "    </tr>\n",
              "    <tr>\n",
              "      <th>RainTomorrow</th>\n",
              "      <td>0.083936</td>\n",
              "      <td>-0.159237</td>\n",
              "      <td>0.239032</td>\n",
              "      <td>-0.119285</td>\n",
              "      <td>-0.450768</td>\n",
              "      <td>0.234010</td>\n",
              "      <td>0.090995</td>\n",
              "      <td>0.087817</td>\n",
              "      <td>0.257161</td>\n",
              "      <td>0.446160</td>\n",
              "      <td>-0.246371</td>\n",
              "      <td>-0.226031</td>\n",
              "      <td>0.317380</td>\n",
              "      <td>0.381870</td>\n",
              "      <td>-0.025691</td>\n",
              "      <td>-0.192424</td>\n",
              "      <td>0.501485</td>\n",
              "      <td>1.000000</td>\n",
              "    </tr>\n",
              "  </tbody>\n",
              "</table>\n",
              "</div>"
            ],
            "text/plain": [
              "                MinTemp   MaxTemp  Rainfall  ...   Temp3pm   RISK_MM  RainTomorrow\n",
              "MinTemp        1.000000  0.736267  0.104255  ...  0.708865  0.124743      0.083936\n",
              "MaxTemp        0.736267  1.000000 -0.074839  ...  0.984562 -0.044208     -0.159237\n",
              "Rainfall       0.104255 -0.074839  1.000000  ... -0.079178  0.308557      0.239032\n",
              "Evaporation    0.467261  0.588915 -0.064549  ...  0.574275 -0.043498     -0.119285\n",
              "Sunshine       0.072961  0.469967 -0.227525  ...  0.490180 -0.294973     -0.450768\n",
              "WindGustSpeed  0.177285  0.067690  0.133497  ...  0.032970  0.162923      0.234010\n",
              "WindSpeed9am   0.176005  0.014680  0.086816  ...  0.005108  0.069404      0.090995\n",
              "WindSpeed3pm   0.175749  0.050800  0.057759  ...  0.028567  0.049240      0.087817\n",
              "Humidity9am   -0.234211 -0.505432  0.223725  ... -0.499777  0.172417      0.257161\n",
              "Humidity3pm    0.005999 -0.509270  0.255312  ... -0.557989  0.313183      0.446160\n",
              "Pressure9am   -0.451260 -0.332293 -0.168085  ... -0.287301 -0.163673     -0.246371\n",
              "Pressure3pm   -0.461623 -0.427279 -0.126728  ... -0.389863 -0.164184     -0.226031\n",
              "Cloud9am       0.077625 -0.289865  0.198195  ... -0.302520  0.198095      0.317380\n",
              "Cloud3pm       0.020489 -0.279053  0.171993  ... -0.318254  0.234814      0.381870\n",
              "Temp9am        0.901813  0.887020  0.011477  ...  0.860574  0.051232     -0.025691\n",
              "Temp3pm        0.708865  0.984562 -0.079178  ...  1.000000 -0.066817     -0.192424\n",
              "RISK_MM        0.124743 -0.044208  0.308557  ... -0.066817  1.000000      0.501485\n",
              "RainTomorrow   0.083936 -0.159237  0.239032  ... -0.192424  0.501485      1.000000\n",
              "\n",
              "[18 rows x 18 columns]"
            ]
          },
          "metadata": {},
          "execution_count": 292
        }
      ]
    },
    {
      "cell_type": "code",
      "metadata": {
        "colab": {
          "base_uri": "https://localhost:8080/",
          "height": 279
        },
        "id": "Xry1LOJsgTYe",
        "outputId": "8b247bcf-073e-4b05-8723-000ddf5399f9"
      },
      "source": [
        "sns.boxplot(x = df[\"RainTomorrow\"], y = df[\"MinTemp\"])\n",
        "plt.show()"
      ],
      "execution_count": 293,
      "outputs": [
        {
          "output_type": "display_data",
          "data": {
            "image/png": "[encoded data removed]",
            "text/plain": [
              "<Figure size 432x288 with 1 Axes>"
            ]
          },
          "metadata": {
            "needs_background": "light"
          }
        }
      ]
    },
    {
      "cell_type": "code",
      "metadata": {
        "colab": {
          "base_uri": "https://localhost:8080/",
          "height": 281
        },
        "id": "9zCULhjhgaaO",
        "outputId": "12b8e102-3e1f-4ccb-be82-159323ecfe12"
      },
      "source": [
        "sns.boxplot(x = df[\"RainTomorrow\"], y = df[\"MaxTemp\"])\n",
        "plt.show()"
      ],
      "execution_count": 294,
      "outputs": [
        {
          "output_type": "display_data",
          "data": {
            "image/png": "[encoded data removed]",
            "text/plain": [
              "<Figure size 432x288 with 1 Axes>"
            ]
          },
          "metadata": {
            "needs_background": "light"
          }
        }
      ]
    },
    {
      "cell_type": "code",
      "metadata": {
        "colab": {
          "base_uri": "https://localhost:8080/",
          "height": 281
        },
        "id": "67p7WAwlgemh",
        "outputId": "36e07898-18bf-4639-abf7-a2fd4a28e7bf"
      },
      "source": [
        "sns.boxplot(x = df[\"RainTomorrow\"], y = df[\"WindGustSpeed\"])\n",
        "plt.show()"
      ],
      "execution_count": 295,
      "outputs": [
        {
          "output_type": "display_data",
          "data": {
            "image/png": "[encoded data removed]",
            "text/plain": [
              "<Figure size 432x288 with 1 Axes>"
            ]
          },
          "metadata": {
            "needs_background": "light"
          }
        }
      ]
    },
    {
      "cell_type": "code",
      "metadata": {
        "colab": {
          "base_uri": "https://localhost:8080/",
          "height": 279
        },
        "id": "BEUbB-E5glEz",
        "outputId": "5d587ed3-09ea-44d0-abe9-8008a14b13a1"
      },
      "source": [
        "sns.boxplot(x = df[\"RainTomorrow\"], y = df[\"Sunshine\"])\n",
        "plt.show()"
      ],
      "execution_count": 296,
      "outputs": [
        {
          "output_type": "display_data",
          "data": {
            "image/png": "[encoded data removed]",
            "text/plain": [
              "<Figure size 432x288 with 1 Axes>"
            ]
          },
          "metadata": {
            "needs_background": "light"
          }
        }
      ]
    },
    {
      "cell_type": "code",
      "metadata": {
        "colab": {
          "base_uri": "https://localhost:8080/",
          "height": 279
        },
        "id": "2psXUYUUgth6",
        "outputId": "be8f23bd-7110-4b0b-fac1-7b6b4653a5e1"
      },
      "source": [
        "sns.boxplot(x = df[\"RainTomorrow\"], y = df[\"Evaporation\"])\n",
        "plt.show()"
      ],
      "execution_count": 297,
      "outputs": [
        {
          "output_type": "display_data",
          "data": {
            "image/png": "[encoded data removed]",
            "text/plain": [
              "<Figure size 432x288 with 1 Axes>"
            ]
          },
          "metadata": {
            "needs_background": "light"
          }
        }
      ]
    },
    {
      "cell_type": "code",
      "metadata": {
        "colab": {
          "base_uri": "https://localhost:8080/",
          "height": 279
        },
        "id": "f4Rt2bW0gyfy",
        "outputId": "d032a7cd-592b-4c94-db3d-80b15cca7c1b"
      },
      "source": [
        "sns.boxplot(x = df[\"RainTomorrow\"], y = df[\"WindSpeed9am\"])\n",
        "plt.show()"
      ],
      "execution_count": 298,
      "outputs": [
        {
          "output_type": "display_data",
          "data": {
            "image/png": "[encoded data removed]",
            "text/plain": [
              "<Figure size 432x288 with 1 Axes>"
            ]
          },
          "metadata": {
            "needs_background": "light"
          }
        }
      ]
    },
    {
      "cell_type": "code",
      "metadata": {
        "colab": {
          "base_uri": "https://localhost:8080/",
          "height": 279
        },
        "id": "Tt5DZG2eg4Wd",
        "outputId": "3bddd674-e259-4f43-be01-200c17e5e12e"
      },
      "source": [
        "sns.boxplot(x = df[\"RainTomorrow\"], y = df[\"Temp9am\"])\n",
        "plt.show()"
      ],
      "execution_count": 299,
      "outputs": [
        {
          "output_type": "display_data",
          "data": {
            "image/png": "[encoded data removed]",
            "text/plain": [
              "<Figure size 432x288 with 1 Axes>"
            ]
          },
          "metadata": {
            "needs_background": "light"
          }
        }
      ]
    },
    {
      "cell_type": "code",
      "metadata": {
        "colab": {
          "base_uri": "https://localhost:8080/",
          "height": 279
        },
        "id": "OiAfjQGRg5_l",
        "outputId": "b9d8f64c-269f-43c1-f577-4eb1bfa9b1c2"
      },
      "source": [
        "sns.boxplot(x = df[\"RainTomorrow\"], y = df[\"Temp3pm\"])\n",
        "plt.show()"
      ],
      "execution_count": 300,
      "outputs": [
        {
          "output_type": "display_data",
          "data": {
            "image/png": "[encoded data removed]",
            "text/plain": [
              "<Figure size 432x288 with 1 Axes>"
            ]
          },
          "metadata": {
            "needs_background": "light"
          }
        }
      ]
    },
    {
      "cell_type": "code",
      "metadata": {
        "colab": {
          "base_uri": "https://localhost:8080/",
          "height": 279
        },
        "id": "8bS00Y1YhByH",
        "outputId": "f40349b4-6623-4081-c18c-c6aab58bb2d0"
      },
      "source": [
        "sns.boxplot(x = df[\"RainTomorrow\"], y = df[\"Cloud9am\"])\n",
        "plt.show()"
      ],
      "execution_count": 301,
      "outputs": [
        {
          "output_type": "display_data",
          "data": {
            "image/png": "[encoded data removed]",
            "text/plain": [
              "<Figure size 432x288 with 1 Axes>"
            ]
          },
          "metadata": {
            "needs_background": "light"
          }
        }
      ]
    },
    {
      "cell_type": "code",
      "metadata": {
        "colab": {
          "base_uri": "https://localhost:8080/",
          "height": 279
        },
        "id": "tLfxz10GhGc9",
        "outputId": "49e271a2-a48a-425f-a44c-d6a22005ac69"
      },
      "source": [
        "sns.boxplot(x = df[\"RainTomorrow\"], y = df[\"Cloud3pm\"])\n",
        "plt.show()"
      ],
      "execution_count": 302,
      "outputs": [
        {
          "output_type": "display_data",
          "data": {
            "image/png": "[encoded data removed]",
            "text/plain": [
              "<Figure size 432x288 with 1 Axes>"
            ]
          },
          "metadata": {
            "needs_background": "light"
          }
        }
      ]
    },
    {
      "cell_type": "code",
      "metadata": {
        "colab": {
          "base_uri": "https://localhost:8080/",
          "height": 279
        },
        "id": "_x46r_kNhJIB",
        "outputId": "8a1e91f0-13e0-4e61-ba28-4ec3dc0b8ee7"
      },
      "source": [
        "sns.boxplot(x = df[\"RainTomorrow\"], y = df[\"Pressure9am\"])\n",
        "plt.show()"
      ],
      "execution_count": 303,
      "outputs": [
        {
          "output_type": "display_data",
          "data": {
            "image/png": "[encoded data removed]",
            "text/plain": [
              "<Figure size 432x288 with 1 Axes>"
            ]
          },
          "metadata": {
            "needs_background": "light"
          }
        }
      ]
    },
    {
      "cell_type": "code",
      "metadata": {
        "colab": {
          "base_uri": "https://localhost:8080/",
          "height": 279
        },
        "id": "y1O1ioEFhKM_",
        "outputId": "8fdc1c4a-68a7-4f97-d527-e1b6c56f32e2"
      },
      "source": [
        "sns.boxplot(x = df[\"RainTomorrow\"], y = df[\"Pressure3pm\"])\n",
        "plt.show()"
      ],
      "execution_count": 304,
      "outputs": [
        {
          "output_type": "display_data",
          "data": {
            "image/png": "[encoded data removed]",
            "text/plain": [
              "<Figure size 432x288 with 1 Axes>"
            ]
          },
          "metadata": {
            "needs_background": "light"
          }
        }
      ]
    },
    {
      "cell_type": "code",
      "metadata": {
        "colab": {
          "base_uri": "https://localhost:8080/",
          "height": 279
        },
        "id": "WuB8lHnNhJwA",
        "outputId": "54bda374-07c7-47b8-baf5-ca3fb433d930"
      },
      "source": [
        "sns.boxplot(x = df[\"RainTomorrow\"], y = df[\"Humidity9am\"])\n",
        "plt.show()"
      ],
      "execution_count": 305,
      "outputs": [
        {
          "output_type": "display_data",
          "data": {
            "image/png": "[encoded data removed]",
            "text/plain": [
              "<Figure size 432x288 with 1 Axes>"
            ]
          },
          "metadata": {
            "needs_background": "light"
          }
        }
      ]
    },
    {
      "cell_type": "code",
      "metadata": {
        "colab": {
          "base_uri": "https://localhost:8080/",
          "height": 279
        },
        "id": "MSV4cNsRhVdt",
        "outputId": "eaa190a6-948e-4cea-be11-f1230705ff18"
      },
      "source": [
        "sns.boxplot(x = df[\"RainTomorrow\"], y = df[\"Humidity3pm\"])\n",
        "plt.show()"
      ],
      "execution_count": 306,
      "outputs": [
        {
          "output_type": "display_data",
          "data": {
            "image/png": "[encoded data removed]",
            "text/plain": [
              "<Figure size 432x288 with 1 Axes>"
            ]
          },
          "metadata": {
            "needs_background": "light"
          }
        }
      ]
    },
    {
      "cell_type": "code",
      "metadata": {
        "colab": {
          "base_uri": "https://localhost:8080/",
          "height": 226
        },
        "id": "jYtAv9KKhlr1",
        "outputId": "5de8c7a2-4729-47f2-ed18-895b41126270"
      },
      "source": [
        "df = df.drop(['Date','RISK_MM'], axis = 1)\n",
        "df.head(5)"
      ],
      "execution_count": 307,
      "outputs": [
        {
          "output_type": "execute_result",
          "data": {
            "text/html": [
              "<div>\n",
              "<style scoped>\n",
              "    .dataframe tbody tr th:only-of-type {\n",
              "        vertical-align: middle;\n",
              "    }\n",
              "\n",
              "    .dataframe tbody tr th {\n",
              "        vertical-align: top;\n",
              "    }\n",
              "\n",
              "    .dataframe thead th {\n",
              "        text-align: right;\n",
              "    }\n",
              "</style>\n",
              "<table border=\"1\" class=\"dataframe\">\n",
              "  <thead>\n",
              "    <tr style=\"text-align: right;\">\n",
              "      <th></th>\n",
              "      <th>Location</th>\n",
              "      <th>MinTemp</th>\n",
              "      <th>MaxTemp</th>\n",
              "      <th>Rainfall</th>\n",
              "      <th>Evaporation</th>\n",
              "      <th>Sunshine</th>\n",
              "      <th>WindGustDir</th>\n",
              "      <th>WindGustSpeed</th>\n",
              "      <th>WindDir9am</th>\n",
              "      <th>WindDir3pm</th>\n",
              "      <th>WindSpeed9am</th>\n",
              "      <th>WindSpeed3pm</th>\n",
              "      <th>Humidity9am</th>\n",
              "      <th>Humidity3pm</th>\n",
              "      <th>Pressure9am</th>\n",
              "      <th>Pressure3pm</th>\n",
              "      <th>Cloud9am</th>\n",
              "      <th>Cloud3pm</th>\n",
              "      <th>Temp9am</th>\n",
              "      <th>Temp3pm</th>\n",
              "      <th>RainToday</th>\n",
              "      <th>RainTomorrow</th>\n",
              "    </tr>\n",
              "  </thead>\n",
              "  <tbody>\n",
              "    <tr>\n",
              "      <th>0</th>\n",
              "      <td>Albury</td>\n",
              "      <td>13.4</td>\n",
              "      <td>22.9</td>\n",
              "      <td>0.6</td>\n",
              "      <td>NaN</td>\n",
              "      <td>NaN</td>\n",
              "      <td>W</td>\n",
              "      <td>44.0</td>\n",
              "      <td>W</td>\n",
              "      <td>WNW</td>\n",
              "      <td>20.0</td>\n",
              "      <td>24.0</td>\n",
              "      <td>71.0</td>\n",
              "      <td>22.0</td>\n",
              "      <td>1007.7</td>\n",
              "      <td>1007.1</td>\n",
              "      <td>8.0</td>\n",
              "      <td>NaN</td>\n",
              "      <td>16.9</td>\n",
              "      <td>21.8</td>\n",
              "      <td>No</td>\n",
              "      <td>0</td>\n",
              "    </tr>\n",
              "    <tr>\n",
              "      <th>1</th>\n",
              "      <td>Albury</td>\n",
              "      <td>7.4</td>\n",
              "      <td>25.1</td>\n",
              "      <td>0.0</td>\n",
              "      <td>NaN</td>\n",
              "      <td>NaN</td>\n",
              "      <td>WNW</td>\n",
              "      <td>44.0</td>\n",
              "      <td>NNW</td>\n",
              "      <td>WSW</td>\n",
              "      <td>4.0</td>\n",
              "      <td>22.0</td>\n",
              "      <td>44.0</td>\n",
              "      <td>25.0</td>\n",
              "      <td>1010.6</td>\n",
              "      <td>1007.8</td>\n",
              "      <td>NaN</td>\n",
              "      <td>NaN</td>\n",
              "      <td>17.2</td>\n",
              "      <td>24.3</td>\n",
              "      <td>No</td>\n",
              "      <td>0</td>\n",
              "    </tr>\n",
              "    <tr>\n",
              "      <th>2</th>\n",
              "      <td>Albury</td>\n",
              "      <td>12.9</td>\n",
              "      <td>25.7</td>\n",
              "      <td>0.0</td>\n",
              "      <td>NaN</td>\n",
              "      <td>NaN</td>\n",
              "      <td>WSW</td>\n",
              "      <td>46.0</td>\n",
              "      <td>W</td>\n",
              "      <td>WSW</td>\n",
              "      <td>19.0</td>\n",
              "      <td>26.0</td>\n",
              "      <td>38.0</td>\n",
              "      <td>30.0</td>\n",
              "      <td>1007.6</td>\n",
              "      <td>1008.7</td>\n",
              "      <td>NaN</td>\n",
              "      <td>2.0</td>\n",
              "      <td>21.0</td>\n",
              "      <td>23.2</td>\n",
              "      <td>No</td>\n",
              "      <td>0</td>\n",
              "    </tr>\n",
              "    <tr>\n",
              "      <th>3</th>\n",
              "      <td>Albury</td>\n",
              "      <td>9.2</td>\n",
              "      <td>28.0</td>\n",
              "      <td>0.0</td>\n",
              "      <td>NaN</td>\n",
              "      <td>NaN</td>\n",
              "      <td>NE</td>\n",
              "      <td>24.0</td>\n",
              "      <td>SE</td>\n",
              "      <td>E</td>\n",
              "      <td>11.0</td>\n",
              "      <td>9.0</td>\n",
              "      <td>45.0</td>\n",
              "      <td>16.0</td>\n",
              "      <td>1017.6</td>\n",
              "      <td>1012.8</td>\n",
              "      <td>NaN</td>\n",
              "      <td>NaN</td>\n",
              "      <td>18.1</td>\n",
              "      <td>26.5</td>\n",
              "      <td>No</td>\n",
              "      <td>0</td>\n",
              "    </tr>\n",
              "    <tr>\n",
              "      <th>4</th>\n",
              "      <td>Albury</td>\n",
              "      <td>17.5</td>\n",
              "      <td>32.3</td>\n",
              "      <td>1.0</td>\n",
              "      <td>NaN</td>\n",
              "      <td>NaN</td>\n",
              "      <td>W</td>\n",
              "      <td>41.0</td>\n",
              "      <td>ENE</td>\n",
              "      <td>NW</td>\n",
              "      <td>7.0</td>\n",
              "      <td>20.0</td>\n",
              "      <td>82.0</td>\n",
              "      <td>33.0</td>\n",
              "      <td>1010.8</td>\n",
              "      <td>1006.0</td>\n",
              "      <td>7.0</td>\n",
              "      <td>8.0</td>\n",
              "      <td>17.8</td>\n",
              "      <td>29.7</td>\n",
              "      <td>No</td>\n",
              "      <td>0</td>\n",
              "    </tr>\n",
              "  </tbody>\n",
              "</table>\n",
              "</div>"
            ],
            "text/plain": [
              "  Location  MinTemp  MaxTemp  ...  Temp3pm  RainToday  RainTomorrow\n",
              "0   Albury     13.4     22.9  ...     21.8         No             0\n",
              "1   Albury      7.4     25.1  ...     24.3         No             0\n",
              "2   Albury     12.9     25.7  ...     23.2         No             0\n",
              "3   Albury      9.2     28.0  ...     26.5         No             0\n",
              "4   Albury     17.5     32.3  ...     29.7         No             0\n",
              "\n",
              "[5 rows x 22 columns]"
            ]
          },
          "metadata": {},
          "execution_count": 307
        }
      ]
    },
    {
      "cell_type": "code",
      "metadata": {
        "colab": {
          "base_uri": "https://localhost:8080/",
          "height": 226
        },
        "id": "xDaE_rl-h1qa",
        "outputId": "53d849f3-b635-4cb8-eab9-3aecd1ca8854"
      },
      "source": [
        "df = df.dropna(subset = ['RainToday'])\n",
        "df.fillna(0, inplace = True)\n",
        "df.head(5)"
      ],
      "execution_count": 308,
      "outputs": [
        {
          "output_type": "execute_result",
          "data": {
            "text/html": [
              "<div>\n",
              "<style scoped>\n",
              "    .dataframe tbody tr th:only-of-type {\n",
              "        vertical-align: middle;\n",
              "    }\n",
              "\n",
              "    .dataframe tbody tr th {\n",
              "        vertical-align: top;\n",
              "    }\n",
              "\n",
              "    .dataframe thead th {\n",
              "        text-align: right;\n",
              "    }\n",
              "</style>\n",
              "<table border=\"1\" class=\"dataframe\">\n",
              "  <thead>\n",
              "    <tr style=\"text-align: right;\">\n",
              "      <th></th>\n",
              "      <th>Location</th>\n",
              "      <th>MinTemp</th>\n",
              "      <th>MaxTemp</th>\n",
              "      <th>Rainfall</th>\n",
              "      <th>Evaporation</th>\n",
              "      <th>Sunshine</th>\n",
              "      <th>WindGustDir</th>\n",
              "      <th>WindGustSpeed</th>\n",
              "      <th>WindDir9am</th>\n",
              "      <th>WindDir3pm</th>\n",
              "      <th>WindSpeed9am</th>\n",
              "      <th>WindSpeed3pm</th>\n",
              "      <th>Humidity9am</th>\n",
              "      <th>Humidity3pm</th>\n",
              "      <th>Pressure9am</th>\n",
              "      <th>Pressure3pm</th>\n",
              "      <th>Cloud9am</th>\n",
              "      <th>Cloud3pm</th>\n",
              "      <th>Temp9am</th>\n",
              "      <th>Temp3pm</th>\n",
              "      <th>RainToday</th>\n",
              "      <th>RainTomorrow</th>\n",
              "    </tr>\n",
              "  </thead>\n",
              "  <tbody>\n",
              "    <tr>\n",
              "      <th>0</th>\n",
              "      <td>Albury</td>\n",
              "      <td>13.4</td>\n",
              "      <td>22.9</td>\n",
              "      <td>0.6</td>\n",
              "      <td>0.0</td>\n",
              "      <td>0.0</td>\n",
              "      <td>W</td>\n",
              "      <td>44.0</td>\n",
              "      <td>W</td>\n",
              "      <td>WNW</td>\n",
              "      <td>20.0</td>\n",
              "      <td>24.0</td>\n",
              "      <td>71.0</td>\n",
              "      <td>22.0</td>\n",
              "      <td>1007.7</td>\n",
              "      <td>1007.1</td>\n",
              "      <td>8.0</td>\n",
              "      <td>0.0</td>\n",
              "      <td>16.9</td>\n",
              "      <td>21.8</td>\n",
              "      <td>No</td>\n",
              "      <td>0</td>\n",
              "    </tr>\n",
              "    <tr>\n",
              "      <th>1</th>\n",
              "      <td>Albury</td>\n",
              "      <td>7.4</td>\n",
              "      <td>25.1</td>\n",
              "      <td>0.0</td>\n",
              "      <td>0.0</td>\n",
              "      <td>0.0</td>\n",
              "      <td>WNW</td>\n",
              "      <td>44.0</td>\n",
              "      <td>NNW</td>\n",
              "      <td>WSW</td>\n",
              "      <td>4.0</td>\n",
              "      <td>22.0</td>\n",
              "      <td>44.0</td>\n",
              "      <td>25.0</td>\n",
              "      <td>1010.6</td>\n",
              "      <td>1007.8</td>\n",
              "      <td>0.0</td>\n",
              "      <td>0.0</td>\n",
              "      <td>17.2</td>\n",
              "      <td>24.3</td>\n",
              "      <td>No</td>\n",
              "      <td>0</td>\n",
              "    </tr>\n",
              "    <tr>\n",
              "      <th>2</th>\n",
              "      <td>Albury</td>\n",
              "      <td>12.9</td>\n",
              "      <td>25.7</td>\n",
              "      <td>0.0</td>\n",
              "      <td>0.0</td>\n",
              "      <td>0.0</td>\n",
              "      <td>WSW</td>\n",
              "      <td>46.0</td>\n",
              "      <td>W</td>\n",
              "      <td>WSW</td>\n",
              "      <td>19.0</td>\n",
              "      <td>26.0</td>\n",
              "      <td>38.0</td>\n",
              "      <td>30.0</td>\n",
              "      <td>1007.6</td>\n",
              "      <td>1008.7</td>\n",
              "      <td>0.0</td>\n",
              "      <td>2.0</td>\n",
              "      <td>21.0</td>\n",
              "      <td>23.2</td>\n",
              "      <td>No</td>\n",
              "      <td>0</td>\n",
              "    </tr>\n",
              "    <tr>\n",
              "      <th>3</th>\n",
              "      <td>Albury</td>\n",
              "      <td>9.2</td>\n",
              "      <td>28.0</td>\n",
              "      <td>0.0</td>\n",
              "      <td>0.0</td>\n",
              "      <td>0.0</td>\n",
              "      <td>NE</td>\n",
              "      <td>24.0</td>\n",
              "      <td>SE</td>\n",
              "      <td>E</td>\n",
              "      <td>11.0</td>\n",
              "      <td>9.0</td>\n",
              "      <td>45.0</td>\n",
              "      <td>16.0</td>\n",
              "      <td>1017.6</td>\n",
              "      <td>1012.8</td>\n",
              "      <td>0.0</td>\n",
              "      <td>0.0</td>\n",
              "      <td>18.1</td>\n",
              "      <td>26.5</td>\n",
              "      <td>No</td>\n",
              "      <td>0</td>\n",
              "    </tr>\n",
              "    <tr>\n",
              "      <th>4</th>\n",
              "      <td>Albury</td>\n",
              "      <td>17.5</td>\n",
              "      <td>32.3</td>\n",
              "      <td>1.0</td>\n",
              "      <td>0.0</td>\n",
              "      <td>0.0</td>\n",
              "      <td>W</td>\n",
              "      <td>41.0</td>\n",
              "      <td>ENE</td>\n",
              "      <td>NW</td>\n",
              "      <td>7.0</td>\n",
              "      <td>20.0</td>\n",
              "      <td>82.0</td>\n",
              "      <td>33.0</td>\n",
              "      <td>1010.8</td>\n",
              "      <td>1006.0</td>\n",
              "      <td>7.0</td>\n",
              "      <td>8.0</td>\n",
              "      <td>17.8</td>\n",
              "      <td>29.7</td>\n",
              "      <td>No</td>\n",
              "      <td>0</td>\n",
              "    </tr>\n",
              "  </tbody>\n",
              "</table>\n",
              "</div>"
            ],
            "text/plain": [
              "  Location  MinTemp  MaxTemp  ...  Temp3pm  RainToday  RainTomorrow\n",
              "0   Albury     13.4     22.9  ...     21.8         No             0\n",
              "1   Albury      7.4     25.1  ...     24.3         No             0\n",
              "2   Albury     12.9     25.7  ...     23.2         No             0\n",
              "3   Albury      9.2     28.0  ...     26.5         No             0\n",
              "4   Albury     17.5     32.3  ...     29.7         No             0\n",
              "\n",
              "[5 rows x 22 columns]"
            ]
          },
          "metadata": {},
          "execution_count": 308
        }
      ]
    },
    {
      "cell_type": "code",
      "metadata": {
        "colab": {
          "base_uri": "https://localhost:8080/"
        },
        "id": "PqdDyHA_iAou",
        "outputId": "883b2827-93d6-4387-8f28-c7c86c781b8f"
      },
      "source": [
        "df.isnull().sum()"
      ],
      "execution_count": 309,
      "outputs": [
        {
          "output_type": "execute_result",
          "data": {
            "text/plain": [
              "Location         0\n",
              "MinTemp          0\n",
              "MaxTemp          0\n",
              "Rainfall         0\n",
              "Evaporation      0\n",
              "Sunshine         0\n",
              "WindGustDir      0\n",
              "WindGustSpeed    0\n",
              "WindDir9am       0\n",
              "WindDir3pm       0\n",
              "WindSpeed9am     0\n",
              "WindSpeed3pm     0\n",
              "Humidity9am      0\n",
              "Humidity3pm      0\n",
              "Pressure9am      0\n",
              "Pressure3pm      0\n",
              "Cloud9am         0\n",
              "Cloud3pm         0\n",
              "Temp9am          0\n",
              "Temp3pm          0\n",
              "RainToday        0\n",
              "RainTomorrow     0\n",
              "dtype: int64"
            ]
          },
          "metadata": {},
          "execution_count": 309
        }
      ]
    },
    {
      "cell_type": "code",
      "metadata": {
        "id": "lUBgaDyYiKvH"
      },
      "source": [
        "def set_directions(x):\n",
        "    if x == 'NNW' or x == 'N' or x == 'NNE':\n",
        "        return 'N'\n",
        "    elif x == 'ENE' or x == 'E' or x =='ESE':\n",
        "        return 'E'\n",
        "    elif x == 'SSE' or x == 'S' or x == 'SSW':\n",
        "        return 'S'\n",
        "    elif x == 'WSW' or x == 'W' or x == 'WNW':\n",
        "        return 'W'\n",
        "    elif x == 'NE':\n",
        "        return 'NE'\n",
        "    elif x == 'SE':\n",
        "        return 'SE'\n",
        "    elif x == 'SW':\n",
        "        return 'SW'\n",
        "    elif x == 'NW':\n",
        "        return 'NW'"
      ],
      "execution_count": 310,
      "outputs": []
    },
    {
      "cell_type": "code",
      "metadata": {
        "id": "_z9bpVcyiOQ_"
      },
      "source": [
        "df['WindGustDir'] = df[\"WindGustDir\"].apply(set_directions)\n",
        "df['WindDir9am'] = df['WindDir9am'].apply(set_directions)\n",
        "df['WindDir3pm'] = df['WindDir3pm'].apply(set_directions)"
      ],
      "execution_count": 311,
      "outputs": []
    },
    {
      "cell_type": "code",
      "metadata": {
        "colab": {
          "base_uri": "https://localhost:8080/"
        },
        "id": "9VM1FjE_iawV",
        "outputId": "f7c6072b-b9cd-4afc-da6e-076ace9702e7"
      },
      "source": [
        "df.WindDir3pm.unique()"
      ],
      "execution_count": 312,
      "outputs": [
        {
          "output_type": "execute_result",
          "data": {
            "text/plain": [
              "array(['W', 'E', 'NW', 'S', 'N', 'SW', 'SE', None, 'NE'], dtype=object)"
            ]
          },
          "metadata": {},
          "execution_count": 312
        }
      ]
    },
    {
      "cell_type": "code",
      "metadata": {
        "colab": {
          "base_uri": "https://localhost:8080/",
          "height": 665
        },
        "id": "EJZWsit8Nm7m",
        "outputId": "9210c658-4b73-42c9-a1b8-c8b66a67b513"
      },
      "source": [
        "f, ax = plt.subplots(figsize=(16, 10))\n",
        "sns.heatmap(df.corr(), square=False, ax=ax, annot = True);"
      ],
      "execution_count": 313,
      "outputs": [
        {
          "output_type": "display_data",
          "data": {
            "image/png": "[encoded data removed]",
            "text/plain": [
              "<Figure size 1152x720 with 2 Axes>"
            ]
          },
          "metadata": {
            "needs_background": "light"
          }
        }
      ]
    },
    {
      "cell_type": "code",
      "metadata": {
        "colab": {
          "base_uri": "https://localhost:8080/"
        },
        "id": "N9_TN_M1ih5l",
        "outputId": "36a9c96c-e4ef-4947-a485-9695bdfbe4f9"
      },
      "source": [
        "df = pd.get_dummies(df, columns = ['RainToday'])\n",
        "df = pd.get_dummies(df, columns = ['WindDir3pm'])\n",
        "df = pd.get_dummies(df, columns = ['WindDir9am', 'WindGustDir'])\n",
        "df = pd.get_dummies(df, columns = ['Location'])\n",
        "\n",
        "df['RainTomorrow'].value_counts()"
      ],
      "execution_count": 314,
      "outputs": [
        {
          "output_type": "execute_result",
          "data": {
            "text/plain": [
              "0    109586\n",
              "1     31201\n",
              "Name: RainTomorrow, dtype: int64"
            ]
          },
          "metadata": {},
          "execution_count": 314
        }
      ]
    },
    {
      "cell_type": "code",
      "metadata": {
        "colab": {
          "base_uri": "https://localhost:8080/"
        },
        "id": "Tiwa39dzNElP",
        "outputId": "6e724691-f30c-4275-f341-1fffad4ec123"
      },
      "source": [
        "df.info()"
      ],
      "execution_count": 315,
      "outputs": [
        {
          "output_type": "stream",
          "name": "stdout",
          "text": [
            "<class 'pandas.core.frame.DataFrame'>\n",
            "Int64Index: 140787 entries, 0 to 142192\n",
            "Data columns (total 92 columns):\n",
            " #   Column                     Non-Null Count   Dtype  \n",
            "---  ------                     --------------   -----  \n",
            " 0   MinTemp                    140787 non-null  float64\n",
            " 1   MaxTemp                    140787 non-null  float64\n",
            " 2   Rainfall                   140787 non-null  float64\n",
            " 3   Evaporation                140787 non-null  float64\n",
            " 4   Sunshine                   140787 non-null  float64\n",
            " 5   WindGustSpeed              140787 non-null  float64\n",
            " 6   WindSpeed9am               140787 non-null  float64\n",
            " 7   WindSpeed3pm               140787 non-null  float64\n",
            " 8   Humidity9am                140787 non-null  float64\n",
            " 9   Humidity3pm                140787 non-null  float64\n",
            " 10  Pressure9am                140787 non-null  float64\n",
            " 11  Pressure3pm                140787 non-null  float64\n",
            " 12  Cloud9am                   140787 non-null  float64\n",
            " 13  Cloud3pm                   140787 non-null  float64\n",
            " 14  Temp9am                    140787 non-null  float64\n",
            " 15  Temp3pm                    140787 non-null  float64\n",
            " 16  RainTomorrow               140787 non-null  int64  \n",
            " 17  RainToday_No               140787 non-null  uint8  \n",
            " 18  RainToday_Yes              140787 non-null  uint8  \n",
            " 19  WindDir3pm_E               140787 non-null  uint8  \n",
            " 20  WindDir3pm_N               140787 non-null  uint8  \n",
            " 21  WindDir3pm_NE              140787 non-null  uint8  \n",
            " 22  WindDir3pm_NW              140787 non-null  uint8  \n",
            " 23  WindDir3pm_S               140787 non-null  uint8  \n",
            " 24  WindDir3pm_SE              140787 non-null  uint8  \n",
            " 25  WindDir3pm_SW              140787 non-null  uint8  \n",
            " 26  WindDir3pm_W               140787 non-null  uint8  \n",
            " 27  WindDir9am_E               140787 non-null  uint8  \n",
            " 28  WindDir9am_N               140787 non-null  uint8  \n",
            " 29  WindDir9am_NE              140787 non-null  uint8  \n",
            " 30  WindDir9am_NW              140787 non-null  uint8  \n",
            " 31  WindDir9am_S               140787 non-null  uint8  \n",
            " 32  WindDir9am_SE              140787 non-null  uint8  \n",
            " 33  WindDir9am_SW              140787 non-null  uint8  \n",
            " 34  WindDir9am_W               140787 non-null  uint8  \n",
            " 35  WindGustDir_E              140787 non-null  uint8  \n",
            " 36  WindGustDir_N              140787 non-null  uint8  \n",
            " 37  WindGustDir_NE             140787 non-null  uint8  \n",
            " 38  WindGustDir_NW             140787 non-null  uint8  \n",
            " 39  WindGustDir_S              140787 non-null  uint8  \n",
            " 40  WindGustDir_SE             140787 non-null  uint8  \n",
            " 41  WindGustDir_SW             140787 non-null  uint8  \n",
            " 42  WindGustDir_W              140787 non-null  uint8  \n",
            " 43  Location_Adelaide          140787 non-null  uint8  \n",
            " 44  Location_Albany            140787 non-null  uint8  \n",
            " 45  Location_Albury            140787 non-null  uint8  \n",
            " 46  Location_AliceSprings      140787 non-null  uint8  \n",
            " 47  Location_BadgerysCreek     140787 non-null  uint8  \n",
            " 48  Location_Ballarat          140787 non-null  uint8  \n",
            " 49  Location_Bendigo           140787 non-null  uint8  \n",
            " 50  Location_Brisbane          140787 non-null  uint8  \n",
            " 51  Location_Cairns            140787 non-null  uint8  \n",
            " 52  Location_Canberra          140787 non-null  uint8  \n",
            " 53  Location_Cobar             140787 non-null  uint8  \n",
            " 54  Location_CoffsHarbour      140787 non-null  uint8  \n",
            " 55  Location_Dartmoor          140787 non-null  uint8  \n",
            " 56  Location_Darwin            140787 non-null  uint8  \n",
            " 57  Location_GoldCoast         140787 non-null  uint8  \n",
            " 58  Location_Hobart            140787 non-null  uint8  \n",
            " 59  Location_Katherine         140787 non-null  uint8  \n",
            " 60  Location_Launceston        140787 non-null  uint8  \n",
            " 61  Location_Melbourne         140787 non-null  uint8  \n",
            " 62  Location_MelbourneAirport  140787 non-null  uint8  \n",
            " 63  Location_Mildura           140787 non-null  uint8  \n",
            " 64  Location_Moree             140787 non-null  uint8  \n",
            " 65  Location_MountGambier      140787 non-null  uint8  \n",
            " 66  Location_MountGinini       140787 non-null  uint8  \n",
            " 67  Location_Newcastle         140787 non-null  uint8  \n",
            " 68  Location_Nhil              140787 non-null  uint8  \n",
            " 69  Location_NorahHead         140787 non-null  uint8  \n",
            " 70  Location_NorfolkIsland     140787 non-null  uint8  \n",
            " 71  Location_Nuriootpa         140787 non-null  uint8  \n",
            " 72  Location_PearceRAAF        140787 non-null  uint8  \n",
            " 73  Location_Penrith           140787 non-null  uint8  \n",
            " 74  Location_Perth             140787 non-null  uint8  \n",
            " 75  Location_PerthAirport      140787 non-null  uint8  \n",
            " 76  Location_Portland          140787 non-null  uint8  \n",
            " 77  Location_Richmond          140787 non-null  uint8  \n",
            " 78  Location_Sale              140787 non-null  uint8  \n",
            " 79  Location_SalmonGums        140787 non-null  uint8  \n",
            " 80  Location_Sydney            140787 non-null  uint8  \n",
            " 81  Location_SydneyAirport     140787 non-null  uint8  \n",
            " 82  Location_Townsville        140787 non-null  uint8  \n",
            " 83  Location_Tuggeranong       140787 non-null  uint8  \n",
            " 84  Location_Uluru             140787 non-null  uint8  \n",
            " 85  Location_WaggaWagga        140787 non-null  uint8  \n",
            " 86  Location_Walpole           140787 non-null  uint8  \n",
            " 87  Location_Watsonia          140787 non-null  uint8  \n",
            " 88  Location_Williamtown       140787 non-null  uint8  \n",
            " 89  Location_Witchcliffe       140787 non-null  uint8  \n",
            " 90  Location_Wollongong        140787 non-null  uint8  \n",
            " 91  Location_Woomera           140787 non-null  uint8  \n",
            "dtypes: float64(16), int64(1), uint8(75)\n",
            "memory usage: 29.4 MB\n"
          ]
        }
      ]
    },
    {
      "cell_type": "code",
      "metadata": {
        "id": "3R85RzIdbJq4",
        "colab": {
          "base_uri": "https://localhost:8080/",
          "height": 279
        },
        "outputId": "c352473e-49e1-4e00-f66a-49381ec7499b"
      },
      "source": [
        "sns.countplot(x = 'RainTomorrow', data = df, palette = 'hls')\n",
        "plt.show()"
      ],
      "execution_count": 316,
      "outputs": [
        {
          "output_type": "display_data",
          "data": {
            "image/png": "[encoded data removed]",
            "text/plain": [
              "<Figure size 432x288 with 1 Axes>"
            ]
          },
          "metadata": {
            "needs_background": "light"
          }
        }
      ]
    },
    {
      "cell_type": "code",
      "metadata": {
        "colab": {
          "base_uri": "https://localhost:8080/"
        },
        "id": "gFElKNLLOB-O",
        "outputId": "3b925dc8-e623-404a-ed67-24e8bebf03fa"
      },
      "source": [
        "count_rainTomorrow = len(df[df['RainTomorrow'] == 1])\n",
        "count_notRainTomorrow = len(df[df['RainTomorrow'] == 0])\n",
        "percent_rainTomorrow = count_rainTomorrow / (count_rainTomorrow + count_notRainTomorrow)\n",
        "percent_notRainTomorrow = count_notRainTomorrow / (count_rainTomorrow + count_notRainTomorrow)\n",
        "print(\"Percentage of Rain Tomorrow:\", percent_rainTomorrow*100)\n",
        "print(\"Percentage of not Raining Tomorrow:\", percent_notRainTomorrow*100)"
      ],
      "execution_count": 317,
      "outputs": [
        {
          "output_type": "stream",
          "name": "stdout",
          "text": [
            "Percentage of Rain Tomorrow: 22.161847329654016\n",
            "Percentage of not Raining Tomorrow: 77.83815267034598\n"
          ]
        }
      ]
    },
    {
      "cell_type": "code",
      "metadata": {
        "id": "rHl2ukxIOLL_"
      },
      "source": [
        "x = df.drop(['RainTomorrow'], axis = 1)\n",
        "y = df.RainTomorrow\n",
        "\n",
        "x_train, x_test, y_train, y_test = train_test_split(x, y, test_size = 0.3, random_state = 0)"
      ],
      "execution_count": 328,
      "outputs": []
    },
    {
      "cell_type": "code",
      "metadata": {
        "colab": {
          "base_uri": "https://localhost:8080/"
        },
        "id": "hMPBHzR9ORON",
        "outputId": "af900afb-62cf-4fdf-a145-9f520ec0a77b"
      },
      "source": [
        "logit_model = LogisticRegression()\n",
        "logit_model.fit(x_train, y_train)"
      ],
      "execution_count": 329,
      "outputs": [
        {
          "output_type": "execute_result",
          "data": {
            "text/plain": [
              "LogisticRegression()"
            ]
          },
          "metadata": {},
          "execution_count": 329
        }
      ]
    },
    {
      "cell_type": "code",
      "metadata": {
        "id": "TZtDZwfbOUQB"
      },
      "source": [
        "Predictions = logit_model.predict(x_test)\n"
      ],
      "execution_count": 320,
      "outputs": []
    },
    {
      "cell_type": "code",
      "metadata": {
        "colab": {
          "base_uri": "https://localhost:8080/"
        },
        "id": "frDmwAgYOW6N",
        "outputId": "082ab94c-ed98-4b1a-8be5-81c5ae116a84"
      },
      "source": [
        "print(classification_report(y_test, Predictions))"
      ],
      "execution_count": 321,
      "outputs": [
        {
          "output_type": "stream",
          "name": "stdout",
          "text": [
            "              precision    recall  f1-score   support\n",
            "\n",
            "           0       0.84      0.95      0.89     32794\n",
            "           1       0.68      0.40      0.50      9443\n",
            "\n",
            "    accuracy                           0.82     42237\n",
            "   macro avg       0.76      0.67      0.70     42237\n",
            "weighted avg       0.81      0.82      0.81     42237\n",
            "\n"
          ]
        }
      ]
    },
    {
      "cell_type": "code",
      "metadata": {
        "colab": {
          "base_uri": "https://localhost:8080/"
        },
        "id": "K9Qm_2DnOZfM",
        "outputId": "397e5f61-05be-46f4-9246-5155dbbc932d"
      },
      "source": [
        "#Confusion Matrix\n",
        "print(confusion_matrix(y_test, Predictions))"
      ],
      "execution_count": 322,
      "outputs": [
        {
          "output_type": "stream",
          "name": "stdout",
          "text": [
            "[[31029  1765]\n",
            " [ 5695  3748]]\n"
          ]
        }
      ]
    },
    {
      "cell_type": "code",
      "metadata": {
        "colab": {
          "base_uri": "https://localhost:8080/",
          "height": 265
        },
        "id": "0h4WMtYvd0OP",
        "outputId": "c0192820-e64f-406f-87b7-fc5ffa881bbd"
      },
      "source": [
        "sns.heatmap(confusion_matrix(y_test, Predictions), annot=True, fmt=\"d\")\n",
        "plt.show()"
      ],
      "execution_count": 323,
      "outputs": [
        {
          "output_type": "display_data",
          "data": {
            "image/png": "[encoded data removed]",
            "text/plain": [
              "<Figure size 432x288 with 2 Axes>"
            ]
          },
          "metadata": {
            "needs_background": "light"
          }
        }
      ]
    },
    {
      "cell_type": "code",
      "metadata": {
        "colab": {
          "base_uri": "https://localhost:8080/"
        },
        "id": "r-kDJhfgOd8S",
        "outputId": "b6879bc4-1320-4b83-976e-59417d81e30a"
      },
      "source": [
        "TP = 31029\n",
        "TN = 3748\n",
        "FP = 1765\n",
        "FN = 5095\n",
        "\n",
        "#Accuracy\n",
        "#Accuracy = (TP + TN)/Total\n",
        "\n",
        "Accuracy = (TP + TN)/(TP+TN+FP+FN)\n",
        "\n",
        "#Error Rate\n",
        "#ErrorRate = (FP+FN)/Total\n",
        "\n",
        "Error = (FP + FN)/(TP+TN+FP+FN)\n",
        "\n",
        "print(\"Accuracy:\", Accuracy*100)\n",
        "print(\"Error:\", Error*100)"
      ],
      "execution_count": 324,
      "outputs": [
        {
          "output_type": "stream",
          "name": "stdout",
          "text": [
            "Accuracy: 83.52426927972716\n",
            "Error: 16.475730720272836\n"
          ]
        }
      ]
    },
    {
      "cell_type": "code",
      "metadata": {
        "id": "w45vsjb3OieK"
      },
      "source": [
        "# Random forest\n",
        "\n",
        "clf_rf = RandomForestClassifier(random_state=23)      \n",
        "clr_rf = clf_rf.fit(x_train,y_train)"
      ],
      "execution_count": 325,
      "outputs": []
    },
    {
      "cell_type": "code",
      "metadata": {
        "colab": {
          "base_uri": "https://localhost:8080/"
        },
        "id": "CwO0iYogdkfb",
        "outputId": "970cd0fd-5193-486c-aa22-a765eb7c7a0d"
      },
      "source": [
        "y_predict = clf_rf.predict(x_test)\n",
        "accuracy = accuracy_score(y_test, y_predict )\n",
        "print('Accuracy: ', accuracy)"
      ],
      "execution_count": 326,
      "outputs": [
        {
          "output_type": "stream",
          "name": "stdout",
          "text": [
            "Accuracy:  0.8555295120392074\n"
          ]
        }
      ]
    },
    {
      "cell_type": "code",
      "metadata": {
        "colab": {
          "base_uri": "https://localhost:8080/",
          "height": 265
        },
        "id": "g8SpgxRydrMi",
        "outputId": "c1f7f40f-cd2c-4ef1-c3c7-4c84c76203af"
      },
      "source": [
        "sns.heatmap(confusion_matrix(y_test, y_predict), annot=True, fmt=\"d\")\n",
        "plt.show()"
      ],
      "execution_count": 327,
      "outputs": [
        {
          "output_type": "display_data",
          "data": {
            "image/png": "[encoded data removed]",
            "text/plain": [
              "<Figure size 432x288 with 2 Axes>"
            ]
          },
          "metadata": {
            "needs_background": "light"
          }
        }
      ]
    },
    {
      "cell_type": "code",
      "metadata": {
        "colab": {
          "base_uri": "https://localhost:8080/"
        },
        "id": "5ysPOdgJeMLq",
        "outputId": "53247ec7-b78b-4df9-955a-32085e671b94"
      },
      "source": [
        "TP = 31445\n",
        "TN = 4690\n",
        "FP = 1349\n",
        "FN = 4753\n",
        "\n",
        "#Accuracy\n",
        "#Accuracy = (TP + TN)/Total\n",
        "\n",
        "Accuracy = (TP + TN)/(TP+TN+FP+FN)\n",
        "\n",
        "#Error Rate\n",
        "#ErrorRate = (FP+FN)/Total\n",
        "\n",
        "Error = (FP + FN)/(TP+TN+FP+FN)\n",
        "\n",
        "print(\"Accuracy:\", Accuracy*100)\n",
        "print(\"Error:\", Error*100)"
      ],
      "execution_count": 330,
      "outputs": [
        {
          "output_type": "stream",
          "name": "stdout",
          "text": [
            "Accuracy: 85.55295120392074\n",
            "Error: 14.447048796079267\n"
          ]
        }
      ]
    }
  ]
}